{
 "cells": [
  {
   "cell_type": "markdown",
   "metadata": {},
   "source": [
    "# Milestone 2 Assignment - Capstone Check-in\n",
    "\n",
    "## Author - Studentname"
   ]
  },
  {
   "cell_type": "markdown",
   "metadata": {},
   "source": [
    "### Capstone Project Instructions\n",
    "Select a problem and data sets of particular interest and apply the analytics process to find and report on a solution.\n",
    "\n",
    "Students will construct a simple dashboard to allow a non-technical user to explore their solution. The data should be read from a suitable persistent data storage, such as an Internet URL or a SQL data base.\n",
    "\n",
    "The process followed by the students and the grading criteria include:\n",
    "<ol style=\"list-style-type: lower-alpha;\">\n",
    "<li>Understand the business problem <span class=\"label\" style=\"border-radius: 3px; background-color: darkcyan; color: white;\">Milestone 1</span></li>\n",
    "<li>Evaluate and explore the available data <span class=\"label\" style=\"border-radius: 3px; background-color: darkcyan; color: white;\">Milestone 1</span></li>\n",
    "<li>Proper data preparation <span class=\"label\" style=\"border-radius: 3px; background-color: darkcyan; color: white;\">Milestone 1</span> <span class=\"label\" style=\"border-radius: 3px; background-color: royalblue; color: white;\">Milestone 2</span></li>\n",
    "<li>Exploration of data and understand relationships <span class=\"label\" style=\"border-radius: 3px; background-color: darkcyan; color: white;\">Milestone 1</span> <span class=\"label\" style=\"border-radius: 3px; background-color: royalblue; color: white;\">Milestone 2</span></li>\n",
    "<li>Perform basic analytics and machine learning, within the scope of the course, on the data.  <span class=\"label\" style=\"border-radius: 3px; background-color: royalblue; color: white;\">Milestone 2</span> <span class=\"label\" style=\"border-radius: 3px; background-color: slateblue; color: white;\">Milestone 3</span> <BR/>For example, classification to predict which employees are most likely to leave the company.</li>\n",
    "<li>Create a written and/or oral report on the results suitable for a non-technical audience. <span class=\"label\" style=\"border-radius: 3px; background-color: slateblue; color: white;\">Milestone 3</span></li>\n",
    "</ol>\n",
    "\n"
   ]
  },
  {
   "cell_type": "markdown",
   "metadata": {},
   "source": [
    "## Tasks\n",
    "<img src=\"https://library.startlearninglabs.uw.edu/DATASCI420/img/Milestone2Sample.PNG\" style=\"float: right; width: 400px;\">\n",
    "For this check-in, you are to:\n",
    "\n",
    "1). Explicitly state the problem, list sources, and define the methodology: classification, regression, other\n",
    "\n",
    "2). List data processing steps (psuedo code) including steps from data source collection & preparation, feature engineering & selection, modeling, performance evaluation.\n",
    "\n",
    "3). Read in the previously generated data file of cleaned up data\n",
    "\n",
    "4). Perform feature engineering and selection\n",
    "\n",
    "5). Conduct some preliminary modeling \n",
    "\n",
    "6). Identify potential machine learning model(s) to improve performance\n"
   ]
  },
  {
   "cell_type": "markdown",
   "metadata": {},
   "source": [
    "## Project Goal\n",
    "\n"
   ]
  },
  {
   "cell_type": "code",
   "execution_count": null,
   "metadata": {},
   "outputs": [],
   "source": []
  },
  {
   "cell_type": "code",
   "execution_count": null,
   "metadata": {},
   "outputs": [],
   "source": []
  },
  {
   "cell_type": "code",
   "execution_count": null,
   "metadata": {},
   "outputs": [],
   "source": []
  },
  {
   "cell_type": "markdown",
   "metadata": {},
   "source": [
    "## Data Processing Steps"
   ]
  },
  {
   "cell_type": "code",
   "execution_count": null,
   "metadata": {},
   "outputs": [],
   "source": []
  },
  {
   "cell_type": "markdown",
   "metadata": {},
   "source": [
    "## Feature Engineering and Selection"
   ]
  },
  {
   "cell_type": "code",
   "execution_count": null,
   "metadata": {},
   "outputs": [],
   "source": [
    "# Data file location\n"
   ]
  },
  {
   "cell_type": "code",
   "execution_count": null,
   "metadata": {},
   "outputs": [],
   "source": [
    "# Import libraries\n"
   ]
  },
  {
   "cell_type": "code",
   "execution_count": null,
   "metadata": {},
   "outputs": [],
   "source": []
  },
  {
   "cell_type": "markdown",
   "metadata": {},
   "source": [
    "## Preliminary Data Model\n",
    "\n"
   ]
  },
  {
   "cell_type": "code",
   "execution_count": null,
   "metadata": {},
   "outputs": [],
   "source": []
  },
  {
   "cell_type": "code",
   "execution_count": null,
   "metadata": {},
   "outputs": [],
   "source": []
  },
  {
   "cell_type": "code",
   "execution_count": null,
   "metadata": {},
   "outputs": [],
   "source": []
  },
  {
   "cell_type": "markdown",
   "metadata": {},
   "source": [
    "### Model Performance Evaluation"
   ]
  },
  {
   "cell_type": "code",
   "execution_count": null,
   "metadata": {},
   "outputs": [],
   "source": []
  },
  {
   "cell_type": "markdown",
   "metadata": {},
   "source": [
    "## Improved Machine Learning Model(s)"
   ]
  },
  {
   "cell_type": "code",
   "execution_count": null,
   "metadata": {},
   "outputs": [],
   "source": []
  }
 ],
 "metadata": {
  "kernelspec": {
   "display_name": "Python 3",
   "language": "python",
   "name": "python3"
  },
  "language_info": {
   "codemirror_mode": {
    "name": "ipython",
    "version": 3
   },
   "file_extension": ".py",
   "mimetype": "text/x-python",
   "name": "python",
   "nbconvert_exporter": "python",
   "pygments_lexer": "ipython3",
   "version": "3.6.5"
  }
 },
 "nbformat": 4,
 "nbformat_minor": 2
}
